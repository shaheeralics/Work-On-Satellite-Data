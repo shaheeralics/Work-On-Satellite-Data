{
 "cells": [
  {
   "cell_type": "markdown",
   "metadata": {},
   "source": [
    "<div style=\"background-color:#FAF3F3; padding: 20px; border-radius: 10px; box-shadow: 0 2px 4px 0 rgba(0, 0, 0, 0.1); border:2px solid #E57373; margin-top: 20px;\">\n",
    "    <h1 style=\"font-size:24px; font-family:Georgia, serif; color:#D32F2F; text-align: center; text-shadow: 2px 2px 4px rgba(0, 0, 0, 0.2);\">\n",
    "        Satellite Images Classification using Pretrained Models\n",
    "    </h1>\n",
    "</div>\n"
   ]
  },
  {
   "cell_type": "markdown",
   "metadata": {},
   "source": [
    "<div style=\"background-color:#E6F9E6; padding: 20px; border-radius: 10px; box-shadow: 0 2px 4px 0 rgba(0, 0, 0, 0.1); border:2px solid #66C2A5; margin-top: 20px;\">\n",
    "    <h1 style=\"font-size:24px; font-family:Georgia, serif; color:#4A90E2; text-align: center; text-shadow: 2px 2px 4px rgba(0, 0, 0, 0.2);\">\n",
    "        About Author\n",
    "    </h1>\n",
    "    <div style=\"text-align:center;\">\n",
    "        <a href=\"https://www.sak.kesug.com\">\n",
    "            <img src=\"https://media.licdn.com/dms/image/v2/D4D03AQEsEJ_gVNnU3w/profile-displayphoto-shrink_200_200/profile-displayphoto-shrink_200_200/0/1720678393429?e=2147483647&v=beta&t=RALfVAKvT6TmP2BBpil_CGzZK5L5ykNUou5yModXTVw\" style=\"width: 20%; border-radius: 50%;\" alt=\"Shaheer Ali\">\n",
    "        </a>\n",
    "    </div>\n",
    "    <h2 style=\"font-size:20px; font-family:Georgia, serif; color:#333; text-align:center;\">Mr. Shaheer Ali</h2>\n",
    "    <p style=\"font-size:16px; font-family:Georgia, serif; line-height: 1.5em; text-align:center; color:#333;\">\n",
    "        <em>Data Scientist / ML Engineer</em><br>\n",
    "        BS Computer Science\n",
    "    </p>\n",
    "    <div style=\"text-align:center; margin-top: 10px;\">\n",
    "        <a href=\"https://www.youtube.com/channel/UCUTphw52izMNv9W6AOIFGJA\">\n",
    "            <img width=\"50\" height=\"50\" src=\"https://img.icons8.com/color/48/youtube-play.png\" alt=\"youtube-play\">\n",
    "        </a>\n",
    "        <a href=\"https://twitter.com/__shaheerali190\">\n",
    "            <img width=\"50\" height=\"50\" src=\"https://img.icons8.com/dotty/80/x.png\" alt=\"x\">\n",
    "        </a>\n",
    "        <a href=\"https://www.linkedin.com/in/shaheer-ali-2761aa303/\">\n",
    "            <img width=\"50\" height=\"50\" src=\"https://img.icons8.com/color/48/linkedin.png\" alt=\"linkedin\">\n",
    "        </a>\n",
    "        <a href=\"https://github.com/shaheeralics\">\n",
    "            <img width=\"50\" height=\"50\" src=\"https://img.icons8.com/ios-glyphs/50/github.png\" alt=\"github\">\n",
    "        </a>\n",
    "        <a href=\"https://www.kaggle.com/shaheerali197\">\n",
    "            <img width=\"50\" height=\"50\" src=\"https://img.icons8.com/clouds/100/kaggle.png\" alt=\"kaggle\">\n",
    "        </a>\n",
    "    </div>\n",
    "    <div style=\"text-align:center; margin-top: 20px;\">\n",
    "        <a href=\"https://www.sak.kesug.com\" style=\"font-size:18px; font-family:Georgia, serif; color:#4A90E2; text-decoration:none; border:2px solid #4A90E2; padding: 5px 15px; border-radius: 5px;\">\n",
    "            Portfolio Site\n",
    "        </a>\n",
    "    </div>\n",
    "</div>\n"
   ]
  },
  {
   "cell_type": "markdown",
   "metadata": {},
   "source": [
    "<div style=\"background-color:#E6F9E6; padding: 20px; border-radius: 10px; box-shadow: 0 2px 4px 0 rgba(0, 0, 0, 0.1); border:2px solid #66C2A5; margin-top: 20px;\">\n",
    "    <h1 style=\"font-size:24px; font-family:Georgia, serif; color:#4A90E2; text-align: center; text-shadow: 2px 2px 4px rgba(0, 0, 0, 0.2);\">\n",
    "        Tabel Of Contents:\n",
    "    </h1>\n",
    "    <h2 style=\"font-size:20px; font-family:Georgia, serif; color:#333;\">1. Meta Data</h2>\n",
    "    <ul style=\"font-size:16px; font-family:Georgia, serif; line-height: 1.5em; color:#333;\">\n",
    "        <li>2.0 Importing Libraries</li>\n",
    "    </ul>\n",
    "</div>\n"
   ]
  },
  {
   "cell_type": "markdown",
   "metadata": {},
   "source": [
    "<div style=\"background-color:#F3F9FF; padding: 20px; border-radius: 10px; box-shadow: 0 2px 4px 0 rgba(0, 0, 0, 0.1); border: 2px solid #4A90E2; margin-top: 20px;\">\n",
    "    <h1 style=\"font-size:24px; font-family:Georgia, serif; color:#4A90E2; text-align:center; text-shadow: 2px 2px 4px rgba(0, 0, 0, 0.2);\">\n",
    "        1. Meta Data\n",
    "    </h1>\n",
    "    <ul style=\"font-size:16px; font-family:Georgia, serif; line-height: 1.5em; color:#333;\">\n",
    "        <li><strong>Title:</strong> Images from Remote Sensing Satellites</li>\n",
    "        <li>\n",
    "            <strong>Classification:</strong>\n",
    "            <ul style=\"margin-left: 20px;\">\n",
    "                <li>Agricultural Sector</li>\n",
    "                <li>Terminal</li>\n",
    "                <li>Beach</li>\n",
    "                <li>City</li>\n",
    "                <li>Desert</li>\n",
    "                <li>Forest</li>\n",
    "                <li>Road</li>\n",
    "                <li>Lake</li>\n",
    "                <li>Mountain</li>\n",
    "                <li>Car Parking</li>\n",
    "                <li>Port</li>\n",
    "                <li>Train</li>\n",
    "                <li>Domestic</li>\n",
    "                <li>River</li>\n",
    "            </ul>\n",
    "        </li>\n",
    "        <li><strong>Total Images:</strong> 1,000</li>\n",
    "        <li>\n",
    "            <strong>Sources:</strong>\n",
    "            <ul style=\"margin-left: 20px;\">\n",
    "                <li><a href=\"https://captain-whu.github.io/AID/\" style=\"color:#4A90E2;\">AID Dataset</a></li>\n",
    "                <li><a href=\"https://paperswithcode.com/dataset/\" style=\"color:#4A90E2;\">NWPU-Resist45 Reisc45 Dataset</a></li>\n",
    "            </ul>\n",
    "        </li>\n",
    "    </ul>\n",
    "    <h2 style=\"font-size:20px; font-family:Georgia, serif; color:#4A90E2; margin-top:20px;\">\n",
    "        Explained\n",
    "    </h2>\n",
    "    <p style=\"font-size:16px; font-family:Georgia, serif; line-height: 1.5em; color:#333;\">\n",
    "        The high-resolution satellite photos in this dataset were taken by remote sensing satellites. Urban regions, forests, water bodies, and agricultural fields are among the several geographical settings included in it. These photos are perfect for applications such as change detection, urban planning, environmental monitoring, and land cover classification.\n",
    "    </p>\n",
    "    <p style=\"font-size:16px; font-family:Georgia, serif; line-height: 1.5em; color:#333;\">\n",
    "        The dataset offers insightful information for geospatial analysis applications using computer vision and machine learning. Based on the particulars of each, you can modify it as necessary.\n",
    "    </p>\n",
    "</div>\n"
   ]
  },
  {
   "cell_type": "code",
   "execution_count": null,
   "metadata": {},
   "outputs": [],
   "source": []
  },
  {
   "cell_type": "code",
   "execution_count": null,
   "metadata": {},
   "outputs": [],
   "source": []
  }
 ],
 "metadata": {
  "kernelspec": {
   "display_name": "deep_learning",
   "language": "python",
   "name": "python3"
  },
  "language_info": {
   "name": "python",
   "version": "3.11.10"
  }
 },
 "nbformat": 4,
 "nbformat_minor": 2
}
